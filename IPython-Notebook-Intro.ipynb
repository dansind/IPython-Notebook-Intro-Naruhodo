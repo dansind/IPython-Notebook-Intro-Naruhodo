{
 "metadata": {
  "name": "IPython-Notebook-Intro"
 },
 "nbformat": 3,
 "nbformat_minor": 0,
 "worksheets": [
  {
   "cells": [
    {
     "cell_type": "raw",
     "metadata": {},
     "source": [
      "\n",
      "debugging\n",
      "Loading from github\n",
      "exporting pdfs\n",
      "\n",
      "ipynb format (plaintext file, JSON)\n",
      "\n",
      "Japanese translation\n",
      "\n",
      "\n",
      "\n",
      "TODO: \n",
      " - put this up on github\n",
      " - Get \n"
     ]
    },
    {
     "cell_type": "heading",
     "level": 1,
     "metadata": {},
     "source": [
      "\u306a\u308b\u307b\u3069\u30e9\u30f3\u30c1\u30bb\u30df\u30ca\u30fc\u306eIPython Notebook "
     ]
    },
    {
     "cell_type": "markdown",
     "metadata": {},
     "source": [
      "To load this notebook: (Dan insert command here)"
     ]
    },
    {
     "cell_type": "markdown",
     "metadata": {},
     "source": [
      "<h2>What is Python?</h2>\n",
      "\n",
      "* Powerful scripting language (Similar to Perl)\n",
      "* Easy to write/read (Unlike Perl)\n",
      "* Highly used in scientific computing"
     ]
    },
    {
     "cell_type": "heading",
     "level": 2,
     "metadata": {},
     "source": [
      "What is IPython and IPython notebook?"
     ]
    },
    {
     "cell_type": "markdown",
     "metadata": {},
     "source": [
      "* *IPython* is based on the extremely powerful scripting language *Python*\n",
      "* The *I* stands for interactive. *IPython* lets you program in python interactively to help you navigate your own code easily.\n",
      "* *IPython* is gives very clear error messages, allowing you to debug easier and faster.\n",
      "* The *IPython* html notebook runs in your browser, allowing for many capabilities such as:\n",
      "    * Cell-based code execution\n",
      "    * Syntax Highlighting\n",
      "    * Autocomplete\n",
      "    * Rich media rendering\n",
      "    * \"Notebook\" style format combining code, markdown, LateX, etc.\n",
      "    * Easy Sharing of Notebooks\n",
      "    * ...\n",
      "    "
     ]
    },
    {
     "cell_type": "markdown",
     "metadata": {},
     "source": [
      "<h1> Resources </h1>\n",
      "    \n",
      "    \n",
      "* [Python](http://www.python.org/)\n",
      "* [IPython](http://ipython.org/)\n",
      "* [IPython Videos](http://ipython.org/videos.html)\n",
      "* [IPython notebook viewer](http://nbviewer.ipython.org/)\n",
      "* [Notebooks on GitHub](https://github.com/ipython/ipython/wiki/A-gallery-of-interesting-IPython-Notebooks)"
     ]
    },
    {
     "cell_type": "heading",
     "level": 2,
     "metadata": {},
     "source": [
      "Cell Manipulation / \u30bb\u30fc\u30eb\u306e\u64cd\u4f5c"
     ]
    },
    {
     "cell_type": "markdown",
     "metadata": {},
     "source": [
      "* Inserting cells\n",
      "* Moving Cells\n",
      "* Re-executing cells\n",
      "    * Shift-Enter (Execute then select the next cell)\n",
      "    * Ctrl-Enter (Execute and keep current cell selected)\n"
     ]
    },
    {
     "cell_type": "heading",
     "level": 2,
     "metadata": {},
     "source": [
      "Running simple Python Code"
     ]
    },
    {
     "cell_type": "raw",
     "metadata": {},
     "source": [
      "Notes:\n",
      "Use Shift-m to execute current cell\n"
     ]
    },
    {
     "cell_type": "code",
     "collapsed": false,
     "input": [
      "myname = \"Dan\"\n",
      "print myname"
     ],
     "language": "python",
     "metadata": {},
     "outputs": [
      {
       "output_type": "stream",
       "stream": "stdout",
       "text": [
        "Dan\n"
       ]
      }
     ],
     "prompt_number": 2
    },
    {
     "cell_type": "code",
     "collapsed": false,
     "input": [
      "print myname, \"is awesome!\""
     ],
     "language": "python",
     "metadata": {},
     "outputs": [
      {
       "output_type": "stream",
       "stream": "stdout",
       "text": [
        "Dan is awesome!\n"
       ]
      }
     ],
     "prompt_number": 3
    },
    {
     "cell_type": "code",
     "collapsed": false,
     "input": [
      "print myname, \"is\"+\" really\"*10,\"awesome!\""
     ],
     "language": "python",
     "metadata": {},
     "outputs": [
      {
       "output_type": "stream",
       "stream": "stdout",
       "text": [
        "Dan is really really really really really really really really really really awesome!\n"
       ]
      }
     ],
     "prompt_number": 19
    },
    {
     "cell_type": "heading",
     "level": 2,
     "metadata": {},
     "source": [
      "Saving, exporting, etc."
     ]
    },
    {
     "cell_type": "markdown",
     "metadata": {},
     "source": [
      "* Will automatically save file using (notebooktitle).ipynb\n",
      "* Apple-S or Command S to save\n",
      "* Automatically save script \".py\" file using ipython notebook --script\n",
      "* Can \"download\" using File -> Download as\n",
      "* Additional functions available using [nbconvert](https://github.com/ipython/nbconvert)"
     ]
    },
    {
     "cell_type": "heading",
     "level": 2,
     "metadata": {},
     "source": [
      "Learning Python and getting help"
     ]
    },
    {
     "cell_type": "raw",
     "metadata": {},
     "source": [
      "Use ? for help and ?? for verbose help"
     ]
    },
    {
     "cell_type": "code",
     "collapsed": false,
     "input": [
      "?open"
     ],
     "language": "python",
     "metadata": {},
     "outputs": [],
     "prompt_number": 15
    },
    {
     "cell_type": "code",
     "collapsed": false,
     "input": [
      "#open("
     ],
     "language": "python",
     "metadata": {},
     "outputs": []
    },
    {
     "cell_type": "code",
     "collapsed": false,
     "input": [
      "def sortbylength(listofwords):\n",
      "    '''\n",
      "Input: List of words (strings)\n",
      "Output: Sorted list of words by length\n",
      "    '''\n",
      "    sortedlist = sorted(listofwords,key=len)\n",
      "    return(sortedlist)"
     ],
     "language": "python",
     "metadata": {},
     "outputs": [],
     "prompt_number": 16
    },
    {
     "cell_type": "code",
     "collapsed": false,
     "input": [
      "sortbylength?"
     ],
     "language": "python",
     "metadata": {},
     "outputs": [],
     "prompt_number": 17
    },
    {
     "cell_type": "heading",
     "level": 1,
     "metadata": {},
     "source": [
      "Non-python code"
     ]
    },
    {
     "cell_type": "heading",
     "level": 3,
     "metadata": {},
     "source": [
      "Linux-like"
     ]
    },
    {
     "cell_type": "code",
     "collapsed": false,
     "input": [
      "pwd"
     ],
     "language": "python",
     "metadata": {},
     "outputs": [
      {
       "output_type": "pyout",
       "prompt_number": 5,
       "text": [
        "u'/Users/sindhikara/Dropbox/Documents/Professional/Presentations/Naruhodo/2013-05-29-IPythonNotebook'"
       ]
      }
     ],
     "prompt_number": 5
    },
    {
     "cell_type": "code",
     "collapsed": false,
     "input": [
      "ls"
     ],
     "language": "python",
     "metadata": {},
     "outputs": [
      {
       "output_type": "stream",
       "stream": "stdout",
       "text": [
        "IPython Notebook Intro.ipynb\r\n"
       ]
      }
     ],
     "prompt_number": 6
    },
    {
     "cell_type": "code",
     "collapsed": false,
     "input": [],
     "language": "python",
     "metadata": {},
     "outputs": []
    },
    {
     "cell_type": "heading",
     "level": 3,
     "metadata": {},
     "source": [
      "Magics"
     ]
    },
    {
     "cell_type": "raw",
     "metadata": {},
     "source": [
      "Magic:\n",
      " %load\n",
      " %run\n",
      " %%r, perl etc\n",
      " %timeit\n",
      " % vs %%"
     ]
    },
    {
     "cell_type": "code",
     "collapsed": false,
     "input": [
      "%magic"
     ],
     "language": "python",
     "metadata": {},
     "outputs": [],
     "prompt_number": 5
    },
    {
     "cell_type": "code",
     "collapsed": false,
     "input": [
      "%load "
     ],
     "language": "python",
     "metadata": {},
     "outputs": []
    },
    {
     "cell_type": "code",
     "collapsed": false,
     "input": [
      "%load http://ipython.org/ipython-doc/dev/interactive/tutorial.html"
     ],
     "language": "python",
     "metadata": {},
     "outputs": [],
     "prompt_number": 6
    },
    {
     "cell_type": "code",
     "collapsed": false,
     "input": [
      "%timeit for i in range(100000): float(i)"
     ],
     "language": "python",
     "metadata": {},
     "outputs": [
      {
       "output_type": "stream",
       "stream": "stdout",
       "text": [
        "10 loops, best of 3: 20.7 ms per loop\n"
       ]
      }
     ],
     "prompt_number": 3
    },
    {
     "cell_type": "code",
     "collapsed": false,
     "input": [
      "%%timeit \n",
      "for i in range(100000):\n",
      "    float(i)\n",
      "    sum([i,i+1])"
     ],
     "language": "python",
     "metadata": {},
     "outputs": [
      {
       "output_type": "stream",
       "stream": "stdout",
       "text": [
        "10 loops, best of 3: 58.2 ms per loop\n"
       ]
      }
     ],
     "prompt_number": 4
    },
    {
     "cell_type": "heading",
     "level": 2,
     "metadata": {},
     "source": [
      "Displaying text"
     ]
    },
    {
     "cell_type": "markdown",
     "metadata": {},
     "source": [
      "* Markdown text\n",
      "* LateX style equations $$c = \\sqrt{a^2 + b^2}$$"
     ]
    },
    {
     "cell_type": "markdown",
     "metadata": {},
     "source": [
      "<h2>Simple Debugging</h2>"
     ]
    },
    {
     "cell_type": "code",
     "collapsed": false,
     "input": [
      "def dividenumbers(numa,numb):\n",
      "    '''\n",
      "Given two numbers, return the first divided by the second\n",
      "    '''\n",
      "    quotient = numa // numb\n",
      "    return quotient"
     ],
     "language": "python",
     "metadata": {},
     "outputs": [],
     "prompt_number": 8
    },
    {
     "cell_type": "code",
     "collapsed": false,
     "input": [
      "dividenumbers(1,0)"
     ],
     "language": "python",
     "metadata": {},
     "outputs": [
      {
       "ename": "ZeroDivisionError",
       "evalue": "integer division or modulo by zero",
       "output_type": "pyerr",
       "traceback": [
        "\u001b[0;31m---------------------------------------------------------------------------\u001b[0m\n\u001b[0;31mZeroDivisionError\u001b[0m                         Traceback (most recent call last)",
        "\u001b[0;32m<ipython-input-9-fec0b73990ee>\u001b[0m in \u001b[0;36m<module>\u001b[0;34m()\u001b[0m\n\u001b[0;32m----> 1\u001b[0;31m \u001b[0mdividenumbers\u001b[0m\u001b[0;34m(\u001b[0m\u001b[0;36m1\u001b[0m\u001b[0;34m,\u001b[0m\u001b[0;36m0\u001b[0m\u001b[0;34m)\u001b[0m\u001b[0;34m\u001b[0m\u001b[0m\n\u001b[0m",
        "\u001b[0;32m<ipython-input-8-e05a431ba85b>\u001b[0m in \u001b[0;36mdividenumbers\u001b[0;34m(numa, numb)\u001b[0m\n\u001b[1;32m      3\u001b[0m \u001b[0mGiven\u001b[0m \u001b[0mtwo\u001b[0m \u001b[0mnumbers\u001b[0m\u001b[0;34m,\u001b[0m \u001b[0;32mreturn\u001b[0m \u001b[0mthe\u001b[0m \u001b[0mfirst\u001b[0m \u001b[0mdivided\u001b[0m \u001b[0mby\u001b[0m \u001b[0mthe\u001b[0m \u001b[0msecond\u001b[0m\u001b[0;34m\u001b[0m\u001b[0m\n\u001b[1;32m      4\u001b[0m     '''\n\u001b[0;32m----> 5\u001b[0;31m     \u001b[0mquotient\u001b[0m \u001b[0;34m=\u001b[0m \u001b[0mnuma\u001b[0m \u001b[0;34m//\u001b[0m \u001b[0mnumb\u001b[0m\u001b[0;34m\u001b[0m\u001b[0m\n\u001b[0m\u001b[1;32m      6\u001b[0m     \u001b[0;32mreturn\u001b[0m \u001b[0mquotient\u001b[0m\u001b[0;34m\u001b[0m\u001b[0m\n",
        "\u001b[0;31mZeroDivisionError\u001b[0m: integer division or modulo by zero"
       ]
      }
     ],
     "prompt_number": 9
    },
    {
     "cell_type": "code",
     "collapsed": false,
     "input": [],
     "language": "python",
     "metadata": {},
     "outputs": []
    }
   ],
   "metadata": {}
  }
 ]
}